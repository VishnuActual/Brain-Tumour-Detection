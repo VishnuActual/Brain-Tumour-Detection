{
 "cells": [
  {
   "cell_type": "markdown",
   "id": "6f58e2cd",
   "metadata": {},
   "source": [
    "### First making clean folder to train and test data "
   ]
  },
  {
   "cell_type": "code",
   "execution_count": null,
   "id": "0e34ed83",
   "metadata": {},
   "outputs": [],
   "source": [
    "import pandas as pd \n",
    "import os \n",
    "import random\n",
    "import shutil\n"
   ]
  },
  {
   "cell_type": "code",
   "execution_count": 5,
   "id": "59db6bad",
   "metadata": {},
   "outputs": [
    {
     "name": "stdout",
     "output_type": "stream",
     "text": [
      "Folder 'Data' created successfully.\n"
     ]
    }
   ],
   "source": [
    "import os\n",
    "\n",
    "new_folder_name = 'Data'\n",
    "\n",
    "try:\n",
    "    # Create the new folder\n",
    "    os.mkdir(new_folder_name)\n",
    "    print(f\"Folder '{new_folder_name}' created successfully.\")\n",
    "except OSError as e:\n",
    "    print(f\"Error: {e}\")\n"
   ]
  },
  {
   "cell_type": "code",
   "execution_count": 7,
   "id": "8e82426d",
   "metadata": {},
   "outputs": [
    {
     "name": "stdout",
     "output_type": "stream",
     "text": [
      "Folders 'train' and 'test' created inside 'Data'.\n"
     ]
    }
   ],
   "source": [
    "\n",
    "data_folder = 'Data'\n",
    "train_folder = 'train'\n",
    "test_folder = 'test'\n",
    "\n",
    "try:\n",
    "    \n",
    "    \n",
    "    \n",
    "    os.mkdir(os.path.join(data_folder, train_folder))\n",
    "    os.mkdir(os.path.join(data_folder, test_folder))\n",
    "\n",
    "    print(f\"Folders '{train_folder}' and '{test_folder}' created inside '{data_folder}'.\")\n",
    "except OSError as e:\n",
    "    print(f\"Error: {e}\")\n"
   ]
  },
  {
   "cell_type": "code",
   "execution_count": 8,
   "id": "79861f30",
   "metadata": {},
   "outputs": [],
   "source": [
    "data_folder1 = 'Data/train'\n",
    "data_folder2 = 'Data/test'\n",
    "yes = 'yes'\n",
    "no = 'no'\n",
    "\n",
    "try:\n",
    "    \n",
    "    \n",
    "    \n",
    "    os.mkdir(os.path.join(data_folder1, yes))\n",
    "    os.mkdir(os.path.join(data_folder1, no))\n",
    "    \n",
    "    os.mkdir(os.path.join(data_folder2, yes))\n",
    "    os.mkdir(os.path.join(data_folder2, no))\n",
    "\n",
    "    \n",
    "except OSError as e:\n",
    "    print(f\"Error: {e}\")"
   ]
  },
  {
   "cell_type": "code",
   "execution_count": 11,
   "id": "60c4b23f",
   "metadata": {},
   "outputs": [],
   "source": [
    "\n",
    "\n",
    "def distribute_images(src_folder, train_folder, test_folder , category, split_ratio=0.9):\n",
    "    # List all the images in the source folder\n",
    "    image_files = os.listdir(src_folder)\n",
    "    total_images = len(image_files)\n",
    "\n",
    "    \n",
    "    num_train_images = int(total_images * split_ratio)\n",
    "    num_test_images = total_images - num_train_images\n",
    "\n",
    "    \n",
    "    random.shuffle(image_files)\n",
    "\n",
    "    \n",
    "    train_images = image_files[:num_train_images]\n",
    "    test_images = image_files[num_train_images:]\n",
    "\n",
    "    \n",
    "    train_category_folder = os.path.join(train_folder, category)\n",
    "    test_category_folder = os.path.join(test_folder, category)\n",
    "    os.makedirs(train_category_folder, exist_ok=True)\n",
    "    os.makedirs(test_category_folder, exist_ok=True)\n",
    "\n",
    "    \n",
    "    for image in train_images:\n",
    "        src_path = os.path.join(src_folder, image)\n",
    "        dest_path = os.path.join(train_category_folder, image)\n",
    "        shutil.copy(src_path, dest_path)\n",
    "\n",
    "    for image in test_images:\n",
    "        src_path = os.path.join(src_folder, image)\n",
    "        dest_path = os.path.join(test_category_folder, image)\n",
    "        shutil.copy(src_path, dest_path)\n",
    "\n",
    "if __name__ == \"__main__\":\n",
    "    \n",
    "    src_no_folder = \"Brain Tumour Dataset/no\"\n",
    "    src_yes_folder = \"Brain Tumour Dataset/yes\"\n",
    "    train_folder = \"Data/train\"\n",
    "    test_folder = \"Data/test\"\n",
    "\n",
    "    \n",
    "    distribute_images(src_no_folder, train_folder, test_folder, \"no\")\n",
    "\n",
    "    \n",
    "    distribute_images(src_yes_folder, train_folder, test_folder, \"yes\")\n",
    "\n",
    "\n"
   ]
  },
  {
   "cell_type": "code",
   "execution_count": null,
   "id": "0b576cfb",
   "metadata": {},
   "outputs": [],
   "source": []
  },
  {
   "cell_type": "markdown",
   "id": "cdd8b669",
   "metadata": {},
   "source": [
    "## Creating Dataset to model "
   ]
  },
  {
   "cell_type": "code",
   "execution_count": 1,
   "id": "8a9e1fc9",
   "metadata": {},
   "outputs": [],
   "source": [
    "# Ignore  the warnings\n",
    "import warnings\n",
    "warnings.filterwarnings('always')\n",
    "warnings.filterwarnings('ignore')\n",
    "\n",
    "import pandas as pd \n",
    "import numpy as np \n",
    "import tensorflow as tf \n",
    "import matplotlib.pyplot as plt \n",
    "\n",
    "import os \n",
    "import random \n",
    "import cv2 \n",
    "from PIL import Image \n",
    "\n",
    "from tensorflow.keras.layers import Dense, Conv2D, Input, Dropout\n",
    "from tensorflow.keras.models import Sequential, Model\n",
    "\n",
    "from tensorflow.keras.preprocessing.image import ImageDataGenerator\n",
    "from tensorflow.keras.layers import MaxPooling2D\n",
    "from tensorflow.keras import optimizers\n",
    "\n",
    "import keras \n",
    "from tensorflow.keras.regularizers import l2,l1\n",
    "from sklearn.metrics import confusion_matrix\n",
    "from sklearn.preprocessing import MinMaxScaler\n",
    "import sklearn \n",
    "from sklearn.model_selection import train_test_split\n",
    "\n",
    "from tensorflow.keras.preprocessing.image import ImageDataGenerator\n",
    "from tensorflow.keras.layers import Dense, Input, Dropout, Flatten, Conv2D\n",
    "from tensorflow.keras.layers import BatchNormalization, Activation, MaxPooling2D\n",
    "from tensorflow.keras.models import Model, Sequential\n",
    "from tensorflow.keras.optimizers import Adam\n",
    "from tensorflow.keras.callbacks import ModelCheckpoint, ReduceLROnPlateau\n",
    "from tensorflow.keras.utils import plot_model\n",
    "\n",
    "from IPython.display import SVG, Image\n",
    "import tensorflow as tf\n"
   ]
  },
  {
   "cell_type": "code",
   "execution_count": 26,
   "id": "f488a6ca",
   "metadata": {},
   "outputs": [
    {
     "name": "stdout",
     "output_type": "stream",
     "text": [
      "Found 2700 images belonging to 2 classes.\n",
      "Found 300 images belonging to 2 classes.\n"
     ]
    }
   ],
   "source": [
    "img_height= 180\n",
    "img_width = 180 \n",
    "batch_size = 32\n",
    "datagen_train = ImageDataGenerator(horizontal_flip = True, rescale=1.0/255)\n",
    "datagen_train = ImageDataGenerator(horizontal_flip=True, rescale = 1.0/255)\n",
    "train_generator = datagen_train.flow_from_directory(\n",
    "    \"Data/train/\",\n",
    "    target_size=(img_height, img_width),  \n",
    "    color_mode = \"grayscale\",\n",
    "    batch_size = batch_size,\n",
    "    class_mode = \"categorical\",\n",
    "    shuffle = True\n",
    ")\n",
    "\n",
    "validation_generator = datagen_train.flow_from_directory(\n",
    "    \"Data/test/\",\n",
    "    target_size=(img_height, img_width),  \n",
    "    color_mode = \"grayscale\",\n",
    "    batch_size = batch_size,\n",
    "    class_mode = \"categorical\",\n",
    "    shuffle = True\n",
    "    \n",
    ")\n"
   ]
  },
  {
   "cell_type": "code",
   "execution_count": null,
   "id": "f0a75a97",
   "metadata": {},
   "outputs": [],
   "source": []
  },
  {
   "cell_type": "markdown",
   "id": "3c12ec75",
   "metadata": {},
   "source": [
    "## Model Building "
   ]
  },
  {
   "cell_type": "code",
   "execution_count": 27,
   "id": "758793ce",
   "metadata": {},
   "outputs": [],
   "source": [
    "def Convolution(input_tensor, filters, kernel_size):\n",
    "    x = Conv2D(filters = filters, kernel_size = kernel_size, padding = \"same\")(input_tensor)\n",
    "    x = BatchNormalization()(x)\n",
    "    x = Activation('relu')(x)\n",
    "    x = MaxPooling2D(pool_size = (2,2))(x)\n",
    "    x = Dropout(0.25)(x)\n",
    "    \n",
    "    return x\n",
    "\n",
    "def Dense_f(input_tensor, nodes):\n",
    "    x = Dense(nodes)(input_tensor)\n",
    "    x = BatchNormalization()(x)\n",
    "    x = Activation('relu')(x)\n",
    "    x = Dropout(0.25)(x)\n",
    "    \n",
    "    return x\n",
    "\n",
    "\n",
    "def model_eye_det(input_shape):\n",
    "    inputs = Input(input_shape)\n",
    "    conv_1 = Convolution(inputs,64,(3,3))\n",
    "    conv_2 = Convolution(conv_1,128,(3,3))\n",
    "    conv_3 = Convolution(conv_2,256,(3,3))\n",
    "    conv_4 = Convolution(conv_3,256,(3,3))\n",
    "\n",
    "    flatten = Flatten()(conv_4)\n",
    "    \n",
    "    dense_1 = Dense_f(flatten,128)\n",
    "    dense_2 = Dense_f(dense_1,256)\n",
    "\n",
    "    output  = Dense(2, activation=\"softmax\")(dense_2)\n",
    "    model  =  Model(inputs=[inputs],outputs = [output])\n",
    "    \n",
    "    opt = Adam(learning_rate = 0.0001)\n",
    "    \n",
    "    model.compile(loss=['categorical_crossentropy'] , optimizer = opt , metrics =[\"accuracy\"])\n",
    "\n",
    "    return model\n"
   ]
  },
  {
   "cell_type": "code",
   "execution_count": 28,
   "id": "ae89ae2f",
   "metadata": {},
   "outputs": [
    {
     "name": "stdout",
     "output_type": "stream",
     "text": [
      "Model: \"model_4\"\n",
      "_________________________________________________________________\n",
      " Layer (type)                Output Shape              Param #   \n",
      "=================================================================\n",
      " input_6 (InputLayer)        [(None, 180, 180, 1)]     0         \n",
      "                                                                 \n",
      " conv2d_19 (Conv2D)          (None, 180, 180, 64)      640       \n",
      "                                                                 \n",
      " batch_normalization_26 (Bat  (None, 180, 180, 64)     256       \n",
      " chNormalization)                                                \n",
      "                                                                 \n",
      " activation_26 (Activation)  (None, 180, 180, 64)      0         \n",
      "                                                                 \n",
      " max_pooling2d_18 (MaxPoolin  (None, 90, 90, 64)       0         \n",
      " g2D)                                                            \n",
      "                                                                 \n",
      " dropout_26 (Dropout)        (None, 90, 90, 64)        0         \n",
      "                                                                 \n",
      " conv2d_20 (Conv2D)          (None, 90, 90, 128)       73856     \n",
      "                                                                 \n",
      " batch_normalization_27 (Bat  (None, 90, 90, 128)      512       \n",
      " chNormalization)                                                \n",
      "                                                                 \n",
      " activation_27 (Activation)  (None, 90, 90, 128)       0         \n",
      "                                                                 \n",
      " max_pooling2d_19 (MaxPoolin  (None, 45, 45, 128)      0         \n",
      " g2D)                                                            \n",
      "                                                                 \n",
      " dropout_27 (Dropout)        (None, 45, 45, 128)       0         \n",
      "                                                                 \n",
      " conv2d_21 (Conv2D)          (None, 45, 45, 256)       295168    \n",
      "                                                                 \n",
      " batch_normalization_28 (Bat  (None, 45, 45, 256)      1024      \n",
      " chNormalization)                                                \n",
      "                                                                 \n",
      " activation_28 (Activation)  (None, 45, 45, 256)       0         \n",
      "                                                                 \n",
      " max_pooling2d_20 (MaxPoolin  (None, 22, 22, 256)      0         \n",
      " g2D)                                                            \n",
      "                                                                 \n",
      " dropout_28 (Dropout)        (None, 22, 22, 256)       0         \n",
      "                                                                 \n",
      " conv2d_22 (Conv2D)          (None, 22, 22, 256)       590080    \n",
      "                                                                 \n",
      " batch_normalization_29 (Bat  (None, 22, 22, 256)      1024      \n",
      " chNormalization)                                                \n",
      "                                                                 \n",
      " activation_29 (Activation)  (None, 22, 22, 256)       0         \n",
      "                                                                 \n",
      " max_pooling2d_21 (MaxPoolin  (None, 11, 11, 256)      0         \n",
      " g2D)                                                            \n",
      "                                                                 \n",
      " dropout_29 (Dropout)        (None, 11, 11, 256)       0         \n",
      "                                                                 \n",
      " flatten_4 (Flatten)         (None, 30976)             0         \n",
      "                                                                 \n",
      " dense_12 (Dense)            (None, 128)               3965056   \n",
      "                                                                 \n",
      " batch_normalization_30 (Bat  (None, 128)              512       \n",
      " chNormalization)                                                \n",
      "                                                                 \n",
      " activation_30 (Activation)  (None, 128)               0         \n",
      "                                                                 \n",
      " dropout_30 (Dropout)        (None, 128)               0         \n",
      "                                                                 \n",
      " dense_13 (Dense)            (None, 256)               33024     \n",
      "                                                                 \n",
      " batch_normalization_31 (Bat  (None, 256)              1024      \n",
      " chNormalization)                                                \n",
      "                                                                 \n",
      " activation_31 (Activation)  (None, 256)               0         \n",
      "                                                                 \n",
      " dropout_31 (Dropout)        (None, 256)               0         \n",
      "                                                                 \n",
      " dense_14 (Dense)            (None, 2)                 514       \n",
      "                                                                 \n",
      "=================================================================\n",
      "Total params: 4,962,690\n",
      "Trainable params: 4,960,514\n",
      "Non-trainable params: 2,176\n",
      "_________________________________________________________________\n"
     ]
    }
   ],
   "source": [
    "model = model_eye_det((180,180,1))\n",
    "model.summary()"
   ]
  },
  {
   "cell_type": "code",
   "execution_count": 29,
   "id": "9feb314b",
   "metadata": {},
   "outputs": [],
   "source": [
    "epochs = 10\n",
    "steps_per_epoch = train_generator.n//train_generator.batch_size\n",
    "validation_steps = validation_generator.n//validation_generator.batch_size\n",
    "\n",
    "checkpoint = ModelCheckpoint(\"tumour_weights.h5\", monitor='val_accuracy', save_weights_only = True, mode = 'max',verbose =1)\n",
    "reduce_lr = ReduceLROnPlateau(moniter = 'val_loss', factor = 0.1, patience = 2, min_lr = 0.0001)\n",
    "callbacks = [checkpoint, reduce_lr]"
   ]
  },
  {
   "cell_type": "code",
   "execution_count": 30,
   "id": "bd74e5c9",
   "metadata": {},
   "outputs": [
    {
     "name": "stdout",
     "output_type": "stream",
     "text": [
      "Epoch 1/10\n",
      "84/84 [==============================] - ETA: 0s - loss: 0.5992 - accuracy: 0.7208\n",
      "Epoch 1: saving model to tumour_weights.h5\n",
      "84/84 [==============================] - 464s 5s/step - loss: 0.5992 - accuracy: 0.7208 - val_loss: 0.7583 - val_accuracy: 0.5104 - lr: 1.0000e-04\n",
      "Epoch 2/10\n",
      "84/84 [==============================] - ETA: 0s - loss: 0.4710 - accuracy: 0.7815\n",
      "Epoch 2: saving model to tumour_weights.h5\n",
      "84/84 [==============================] - 811s 10s/step - loss: 0.4710 - accuracy: 0.7815 - val_loss: 0.8385 - val_accuracy: 0.5035 - lr: 1.0000e-04\n",
      "Epoch 3/10\n",
      "84/84 [==============================] - ETA: 0s - loss: 0.3995 - accuracy: 0.8133\n",
      "Epoch 3: saving model to tumour_weights.h5\n",
      "84/84 [==============================] - 431s 5s/step - loss: 0.3995 - accuracy: 0.8133 - val_loss: 0.7731 - val_accuracy: 0.5035 - lr: 1.0000e-04\n",
      "Epoch 4/10\n",
      "84/84 [==============================] - ETA: 0s - loss: 0.3288 - accuracy: 0.8486\n",
      "Epoch 4: saving model to tumour_weights.h5\n",
      "84/84 [==============================] - 419s 5s/step - loss: 0.3288 - accuracy: 0.8486 - val_loss: 0.6637 - val_accuracy: 0.5104 - lr: 1.0000e-04\n",
      "Epoch 5/10\n",
      "84/84 [==============================] - ETA: 0s - loss: 0.2900 - accuracy: 0.8733\n",
      "Epoch 5: saving model to tumour_weights.h5\n",
      "84/84 [==============================] - 422s 5s/step - loss: 0.2900 - accuracy: 0.8733 - val_loss: 0.6617 - val_accuracy: 0.5486 - lr: 1.0000e-04\n",
      "Epoch 6/10\n",
      "84/84 [==============================] - ETA: 0s - loss: 0.2396 - accuracy: 0.9014\n",
      "Epoch 6: saving model to tumour_weights.h5\n",
      "84/84 [==============================] - 419s 5s/step - loss: 0.2396 - accuracy: 0.9014 - val_loss: 0.5998 - val_accuracy: 0.6215 - lr: 1.0000e-04\n",
      "Epoch 7/10\n",
      "84/84 [==============================] - ETA: 0s - loss: 0.2309 - accuracy: 0.9040\n",
      "Epoch 7: saving model to tumour_weights.h5\n",
      "84/84 [==============================] - 413s 5s/step - loss: 0.2309 - accuracy: 0.9040 - val_loss: 0.5998 - val_accuracy: 0.6771 - lr: 1.0000e-04\n",
      "Epoch 8/10\n",
      "84/84 [==============================] - ETA: 0s - loss: 0.2068 - accuracy: 0.9157\n",
      "Epoch 8: saving model to tumour_weights.h5\n",
      "84/84 [==============================] - 429s 5s/step - loss: 0.2068 - accuracy: 0.9157 - val_loss: 0.4163 - val_accuracy: 0.8125 - lr: 1.0000e-04\n",
      "Epoch 9/10\n",
      "84/84 [==============================] - ETA: 0s - loss: 0.1551 - accuracy: 0.9404\n",
      "Epoch 9: saving model to tumour_weights.h5\n",
      "84/84 [==============================] - 450s 5s/step - loss: 0.1551 - accuracy: 0.9404 - val_loss: 0.6428 - val_accuracy: 0.6875 - lr: 1.0000e-04\n",
      "Epoch 10/10\n",
      "84/84 [==============================] - ETA: 0s - loss: 0.1452 - accuracy: 0.9468\n",
      "Epoch 10: saving model to tumour_weights.h5\n",
      "84/84 [==============================] - 451s 5s/step - loss: 0.1452 - accuracy: 0.9468 - val_loss: 0.3945 - val_accuracy: 0.8438 - lr: 1.0000e-04\n"
     ]
    }
   ],
   "source": [
    "history = model.fit(\n",
    "    x = train_generator,\n",
    "    steps_per_epoch = steps_per_epoch,\n",
    "    epochs = epochs,\n",
    "    validation_data = validation_generator,\n",
    "    validation_steps = validation_steps,\n",
    "    callbacks = callbacks)"
   ]
  },
  {
   "cell_type": "code",
   "execution_count": 31,
   "id": "94751fc4",
   "metadata": {},
   "outputs": [
    {
     "name": "stdout",
     "output_type": "stream",
     "text": [
      "10/10 [==============================] - 13s 1s/step - loss: 0.3848 - accuracy: 0.8467\n"
     ]
    },
    {
     "data": {
      "text/plain": [
       "[0.384780615568161, 0.846666693687439]"
      ]
     },
     "execution_count": 31,
     "metadata": {},
     "output_type": "execute_result"
    }
   ],
   "source": [
    "model.evaluate(validation_generator)"
   ]
  },
  {
   "cell_type": "code",
   "execution_count": 32,
   "id": "04b26749",
   "metadata": {},
   "outputs": [
    {
     "data": {
      "image/png": "[encoded data removed]",
      "text/plain": [
       "<Figure size 640x480 with 1 Axes>"
      ]
     },
     "metadata": {},
     "output_type": "display_data"
    }
   ],
   "source": [
    "plt.plot(history.history['loss'])\n",
    "plt.plot(history.history['val_loss'])\n",
    "plt.title('Model Loss')\n",
    "plt.legend(['Train','Validation'],loc = 'upper left')\n",
    "plt.subplots_adjust(top=1.0,bottom=0.0,right =0.95,left=0.0,hspace=0.25,wspace=0.35)"
   ]
  },
  {
   "cell_type": "code",
   "execution_count": 33,
   "id": "5bfe4280",
   "metadata": {},
   "outputs": [
    {
     "data": {
      "image/png": "[encoded data removed]",
      "text/plain": [
       "<Figure size 640x480 with 1 Axes>"
      ]
     },
     "metadata": {},
     "output_type": "display_data"
    }
   ],
   "source": [
    "plt.plot(history.history['accuracy'])\n",
    "plt.plot(history.history['val_accuracy'])\n",
    "plt.title('Model Accuracy')\n",
    "plt.legend(['Train','Validation'],loc = 'upper left')\n",
    "plt.subplots_adjust(top=1.0,bottom=0.0,right =0.95,left=0.0,hspace=0.25,wspace=0.35)"
   ]
  },
  {
   "cell_type": "code",
   "execution_count": 34,
   "id": "92e9e10b",
   "metadata": {},
   "outputs": [],
   "source": [
    "model_json = model.to_json()\n",
    "with open(\"tumour_model_a.json\",\"w\") as json_file:\n",
    "    json_file.write(model_json)"
   ]
  },
  {
   "cell_type": "code",
   "execution_count": null,
   "id": "df26a638",
   "metadata": {},
   "outputs": [],
   "source": []
  }
 ],
 "metadata": {
  "kernelspec": {
   "display_name": "Python 3 (ipykernel)",
   "language": "python",
   "name": "python3"
  },
  "language_info": {
   "codemirror_mode": {
    "name": "ipython",
    "version": 3
   },
   "file_extension": ".py",
   "mimetype": "text/x-python",
   "name": "python",
   "nbconvert_exporter": "python",
   "pygments_lexer": "ipython3",
   "version": "3.9.13"
  }
 },
 "nbformat": 4,
 "nbformat_minor": 5
}
