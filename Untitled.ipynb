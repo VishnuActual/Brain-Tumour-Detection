{
 "cells": [
  {
   "cell_type": "code",
   "execution_count": 45,
   "id": "4d4b64a9",
   "metadata": {},
   "outputs": [],
   "source": [
    "import json \n",
    "import pandas as pd \n",
    "import os \n",
    "import cv2\n",
    "import numpy as np "
   ]
  },
  {
   "cell_type": "code",
   "execution_count": 7,
   "id": "9320fed5",
   "metadata": {},
   "outputs": [
    {
     "data": {
      "text/html": [
       "<div>\n",
       "<style scoped>\n",
       "    .dataframe tbody tr th:only-of-type {\n",
       "        vertical-align: middle;\n",
       "    }\n",
       "\n",
       "    .dataframe tbody tr th {\n",
       "        vertical-align: top;\n",
       "    }\n",
       "\n",
       "    .dataframe thead th {\n",
       "        text-align: right;\n",
       "    }\n",
       "</style>\n",
       "<table border=\"1\" class=\"dataframe\">\n",
       "  <thead>\n",
       "    <tr style=\"text-align: right;\">\n",
       "      <th></th>\n",
       "      <th>y0.jpg19127</th>\n",
       "      <th>y1.jpg59363</th>\n",
       "      <th>y2.jpg14060</th>\n",
       "      <th>y3.jpg19888</th>\n",
       "      <th>y4.jpg15178</th>\n",
       "      <th>y5.jpg13964</th>\n",
       "      <th>y6.jpg26744</th>\n",
       "      <th>y7.jpg16681</th>\n",
       "      <th>y8.jpg25031</th>\n",
       "      <th>y9.jpg8501</th>\n",
       "      <th>...</th>\n",
       "      <th>y791.jpg11822</th>\n",
       "      <th>y792.jpg16905</th>\n",
       "      <th>y793.jpg7103</th>\n",
       "      <th>y794.jpg12512</th>\n",
       "      <th>y795.jpg13172</th>\n",
       "      <th>y796.jpg46313</th>\n",
       "      <th>y797.jpg74904</th>\n",
       "      <th>y798.jpg9683</th>\n",
       "      <th>y799.jpg14604</th>\n",
       "      <th>y800.jpg19201</th>\n",
       "    </tr>\n",
       "  </thead>\n",
       "  <tbody>\n",
       "    <tr>\n",
       "      <th>0</th>\n",
       "      <td>{'filename': 'y0.jpg', 'size': 19127, 'regions...</td>\n",
       "      <td>{'filename': 'y1.jpg', 'size': 59363, 'regions...</td>\n",
       "      <td>{'filename': 'y2.jpg', 'size': 14060, 'regions...</td>\n",
       "      <td>{'filename': 'y3.jpg', 'size': 19888, 'regions...</td>\n",
       "      <td>{'filename': 'y4.jpg', 'size': 15178, 'regions...</td>\n",
       "      <td>{'filename': 'y5.jpg', 'size': 13964, 'regions...</td>\n",
       "      <td>{'filename': 'y6.jpg', 'size': 26744, 'regions...</td>\n",
       "      <td>{'filename': 'y7.jpg', 'size': 16681, 'regions...</td>\n",
       "      <td>{'filename': 'y8.jpg', 'size': 25031, 'regions...</td>\n",
       "      <td>{'filename': 'y9.jpg', 'size': 8501, 'regions'...</td>\n",
       "      <td>...</td>\n",
       "      <td>{'filename': 'y791.jpg', 'size': 11822, 'regio...</td>\n",
       "      <td>{'filename': 'y792.jpg', 'size': 16905, 'regio...</td>\n",
       "      <td>{'filename': 'y793.jpg', 'size': 7103, 'region...</td>\n",
       "      <td>{'filename': 'y794.jpg', 'size': 12512, 'regio...</td>\n",
       "      <td>{'filename': 'y795.jpg', 'size': 13172, 'regio...</td>\n",
       "      <td>{'filename': 'y796.jpg', 'size': 46313, 'regio...</td>\n",
       "      <td>{'filename': 'y797.jpg', 'size': 74904, 'regio...</td>\n",
       "      <td>{'filename': 'y798.jpg', 'size': 9683, 'region...</td>\n",
       "      <td>{'filename': 'y799.jpg', 'size': 14604, 'regio...</td>\n",
       "      <td>{'filename': 'y800.jpg', 'size': 19201, 'regio...</td>\n",
       "    </tr>\n",
       "  </tbody>\n",
       "</table>\n",
       "<p>1 rows × 801 columns</p>\n",
       "</div>"
      ],
      "text/plain": [
       "                                         y0.jpg19127  \\\n",
       "0  {'filename': 'y0.jpg', 'size': 19127, 'regions...   \n",
       "\n",
       "                                         y1.jpg59363  \\\n",
       "0  {'filename': 'y1.jpg', 'size': 59363, 'regions...   \n",
       "\n",
       "                                         y2.jpg14060  \\\n",
       "0  {'filename': 'y2.jpg', 'size': 14060, 'regions...   \n",
       "\n",
       "                                         y3.jpg19888  \\\n",
       "0  {'filename': 'y3.jpg', 'size': 19888, 'regions...   \n",
       "\n",
       "                                         y4.jpg15178  \\\n",
       "0  {'filename': 'y4.jpg', 'size': 15178, 'regions...   \n",
       "\n",
       "                                         y5.jpg13964  \\\n",
       "0  {'filename': 'y5.jpg', 'size': 13964, 'regions...   \n",
       "\n",
       "                                         y6.jpg26744  \\\n",
       "0  {'filename': 'y6.jpg', 'size': 26744, 'regions...   \n",
       "\n",
       "                                         y7.jpg16681  \\\n",
       "0  {'filename': 'y7.jpg', 'size': 16681, 'regions...   \n",
       "\n",
       "                                         y8.jpg25031  \\\n",
       "0  {'filename': 'y8.jpg', 'size': 25031, 'regions...   \n",
       "\n",
       "                                          y9.jpg8501  ...  \\\n",
       "0  {'filename': 'y9.jpg', 'size': 8501, 'regions'...  ...   \n",
       "\n",
       "                                       y791.jpg11822  \\\n",
       "0  {'filename': 'y791.jpg', 'size': 11822, 'regio...   \n",
       "\n",
       "                                       y792.jpg16905  \\\n",
       "0  {'filename': 'y792.jpg', 'size': 16905, 'regio...   \n",
       "\n",
       "                                        y793.jpg7103  \\\n",
       "0  {'filename': 'y793.jpg', 'size': 7103, 'region...   \n",
       "\n",
       "                                       y794.jpg12512  \\\n",
       "0  {'filename': 'y794.jpg', 'size': 12512, 'regio...   \n",
       "\n",
       "                                       y795.jpg13172  \\\n",
       "0  {'filename': 'y795.jpg', 'size': 13172, 'regio...   \n",
       "\n",
       "                                       y796.jpg46313  \\\n",
       "0  {'filename': 'y796.jpg', 'size': 46313, 'regio...   \n",
       "\n",
       "                                       y797.jpg74904  \\\n",
       "0  {'filename': 'y797.jpg', 'size': 74904, 'regio...   \n",
       "\n",
       "                                        y798.jpg9683  \\\n",
       "0  {'filename': 'y798.jpg', 'size': 9683, 'region...   \n",
       "\n",
       "                                       y799.jpg14604  \\\n",
       "0  {'filename': 'y799.jpg', 'size': 14604, 'regio...   \n",
       "\n",
       "                                       y800.jpg19201  \n",
       "0  {'filename': 'y800.jpg', 'size': 19201, 'regio...  \n",
       "\n",
       "[1 rows x 801 columns]"
      ]
     },
     "execution_count": 7,
     "metadata": {},
     "output_type": "execute_result"
    }
   ],
   "source": [
    "data_frame = pd.read_json('Brain Tumour Dataset/Br35H-Mask-RCNN/annotations_all.json', lines=True)\n",
    "data_frame.head()"
   ]
  },
  {
   "cell_type": "code",
   "execution_count": 9,
   "id": "362c29ae",
   "metadata": {},
   "outputs": [
    {
     "name": "stdout",
     "output_type": "stream",
     "text": [
      "  filename   size                                            regions  \\\n",
      "0   y0.jpg  19127  [{'shape_attributes': {'name': 'polygon', 'all...   \n",
      "\n",
      "  file_attributes  \n",
      "0              {}  \n"
     ]
    }
   ],
   "source": [
    "with open('Brain Tumour Dataset/Br35H-Mask-RCNN/annotations_all.json') as json_file:\n",
    "    data = json.load(json_file)\n",
    "\n",
    "# Convert the JSON data to a pandas DataFrame\n",
    "data_frame = pd.DataFrame(data.values())\n",
    "\n",
    "# Display the DataFrame\n",
    "print(data_frame.head(1))"
   ]
  },
  {
   "cell_type": "markdown",
   "id": "83349a4d",
   "metadata": {},
   "source": [
    "## Making a target folder where for each image output cab gain"
   ]
  },
  {
   "cell_type": "code",
   "execution_count": 50,
   "id": "6bef5acc",
   "metadata": {},
   "outputs": [],
   "source": [
    "\n",
    "\n",
    "df = {} \n",
    "train_path = 'Brain Tumour Dataset/Br35H-Mask-RCNN/Train'\n",
    "test_path = 'Brain Tumour Dataset/Br35H-Mask-RCNN/Test'\n",
    "train_list = os.listdir('Brain Tumour Dataset/Br35H-Mask-RCNN/Train') \n",
    "test_list = os.listdir('Brain Tumour Dataset/Br35H-Mask-RCNN/Test')\n",
    "\n",
    "target_folder = 'Brain coord/target'\n",
    "\n",
    "\n",
    "\n",
    "unique = set() \n",
    "for i in data:\n",
    "    df = data[i]\n",
    "    file_name = df['filename'] \n",
    "    if file_name in train_list:\n",
    "        path = os.path.join(train_path,file_name)\n",
    "        img = cv2.imread(path)\n",
    "        shape = img.shape \n",
    "    elif file_name in train_list:\n",
    "        path = os.path.join(test_path,file_name)\n",
    "        img = cv2.imread(path)\n",
    "        shape = img.shape \n",
    "    else:\n",
    "        continue \n",
    "        \n",
    "    canvas = np.zeros((shape[1], shape[0], 3), dtype=np.uint8)\n",
    "    \n",
    "    true = False \n",
    "    for j in df['regions']:\n",
    "        shape_name = j['shape_attributes']['name']\n",
    "        \n",
    "        \n",
    "        \n",
    "        if shape_name == 'polygon':\n",
    "            coordinates = list(zip(j['shape_attributes']['all_points_x'],j['shape_attributes']['all_points_y'])) \n",
    "            points = np.array(coordinates, np.int32).reshape((-1, 1, 2))\n",
    "            \n",
    "            cv2.polylines(canvas, [points], isClosed=True, color=(0, 255, 0), thickness=2)\n",
    "            true = True \n",
    "        \n",
    "    if true==True:\n",
    "        image = cv2.resize(canvas, (180, 180))\n",
    "        gray_image = cv2.cvtColor(image, cv2.COLOR_BGR2GRAY) \n",
    "\n",
    "\n",
    "        save_path = os.path.join(target_folder, file_name)\n",
    "        cv2.imwrite(save_path, gray_image)\n",
    "    \n",
    "    "
   ]
  },
  {
   "cell_type": "code",
   "execution_count": 25,
   "id": "3624830d",
   "metadata": {},
   "outputs": [
    {
     "data": {
      "text/plain": [
       "'polygon'"
      ]
     },
     "execution_count": 25,
     "metadata": {},
     "output_type": "execute_result"
    }
   ],
   "source": [
    "df['regions'][0]['shape_attributes']['name']"
   ]
  },
  {
   "cell_type": "code",
   "execution_count": 27,
   "id": "42b8255b",
   "metadata": {},
   "outputs": [
    {
     "data": {
      "text/plain": [
       "{'circle', 'ellipse', 'polygon'}"
      ]
     },
     "execution_count": 27,
     "metadata": {},
     "output_type": "execute_result"
    }
   ],
   "source": [
    "unique"
   ]
  },
  {
   "cell_type": "code",
   "execution_count": 42,
   "id": "74e73d17",
   "metadata": {},
   "outputs": [
    {
     "data": {
      "text/plain": [
       "[328, 257, 225, 264, 318, 312]"
      ]
     },
     "execution_count": 42,
     "metadata": {},
     "output_type": "execute_result"
    }
   ],
   "source": [
    "df['regions'][0]['shape_attributes']['all_points_x']"
   ]
  },
  {
   "cell_type": "code",
   "execution_count": null,
   "id": "c826d20d",
   "metadata": {},
   "outputs": [],
   "source": [
    "\n",
    "\n",
    "\n",
    "X, Y = 800, 600\n",
    "canvas = np.zeros((Y, X, 3), dtype=np.uint8)\n",
    "\n",
    "# Step 2: Function to draw the shape based on the shape name and coordinates\n",
    "def draw_shape(shape_name, coordinates):\n",
    "    if shape_name == 'polygon':\n",
    "        # Convert the list of coordinates to a NumPy array with shape (n, 1, 2)\n",
    "        points = np.array(coordinates, np.int32).reshape((-1, 1, 2))\n",
    "        # Draw the polygon\n",
    "        cv2.polylines(canvas, [points], isClosed=True, color=(0, 255, 0), thickness=2)\n",
    "\n",
    "    elif shape_name == 'circle':\n",
    "        center = tuple(coordinates)\n",
    "        # Draw the circle\n",
    "        cv2.circle(canvas, center, radius=50, color=(0, 0, 255), thickness=2)\n",
    "\n",
    "    elif shape_name == 'ellipse':\n",
    "        center = tuple(coordinates[:2])\n",
    "        axes = tuple(coordinates[2:4])\n",
    "        angle = coordinates[4]\n",
    "        # Draw the ellipse\n",
    "        cv2.ellipse(canvas, center, axes, angle, startAngle=0, endAngle=360, color=(255, 0, 0), thickness=2)\n"
   ]
  },
  {
   "cell_type": "code",
   "execution_count": null,
   "id": "f8c5c8bb",
   "metadata": {},
   "outputs": [],
   "source": []
  },
  {
   "cell_type": "code",
   "execution_count": null,
   "id": "6f529f25",
   "metadata": {},
   "outputs": [],
   "source": []
  },
  {
   "cell_type": "code",
   "execution_count": null,
   "id": "fdc0a273",
   "metadata": {},
   "outputs": [],
   "source": []
  },
  {
   "cell_type": "code",
   "execution_count": null,
   "id": "5def29f3",
   "metadata": {},
   "outputs": [],
   "source": []
  },
  {
   "cell_type": "code",
   "execution_count": null,
   "id": "c166a7e7",
   "metadata": {},
   "outputs": [],
   "source": []
  },
  {
   "cell_type": "code",
   "execution_count": 36,
   "id": "1554dcf7",
   "metadata": {},
   "outputs": [],
   "source": [
    "path = 'Brain Tumour Dataset/Br35H-Mask-RCNN/Train'\n",
    "unique = set()\n",
    "for img in os.listdir(path)[1:]:\n",
    "    img_pth = path+'/'+img \n",
    "    \n",
    "    image = cv2.imread(img_pth)\n",
    "    unique.add(image.shape)"
   ]
  },
  {
   "cell_type": "code",
   "execution_count": 37,
   "id": "e04b63e6",
   "metadata": {},
   "outputs": [
    {
     "data": {
      "text/plain": [
       "{(173, 189, 3),\n",
       " (210, 200, 3),\n",
       " (212, 209, 3),\n",
       " (218, 180, 3),\n",
       " (219, 230, 3),\n",
       " (223, 226, 3),\n",
       " (225, 225, 3),\n",
       " (233, 215, 3),\n",
       " (234, 216, 3),\n",
       " (236, 213, 3),\n",
       " (237, 213, 3),\n",
       " (239, 211, 3),\n",
       " (243, 205, 3),\n",
       " (246, 205, 3),\n",
       " (247, 204, 3),\n",
       " (251, 201, 3),\n",
       " (251, 204, 3),\n",
       " (255, 197, 3),\n",
       " (256, 197, 3),\n",
       " (256, 256, 3),\n",
       " (260, 194, 3),\n",
       " (269, 249, 3),\n",
       " (277, 272, 3),\n",
       " (279, 258, 3),\n",
       " (283, 231, 3),\n",
       " (286, 241, 3),\n",
       " (290, 250, 3),\n",
       " (291, 253, 3),\n",
       " (294, 250, 3),\n",
       " (295, 283, 3),\n",
       " (300, 240, 3),\n",
       " (300, 263, 3),\n",
       " (303, 223, 3),\n",
       " (307, 271, 3),\n",
       " (308, 244, 3),\n",
       " (309, 232, 3),\n",
       " (316, 270, 3),\n",
       " (318, 273, 3),\n",
       " (323, 276, 3),\n",
       " (324, 278, 3),\n",
       " (325, 254, 3),\n",
       " (325, 300, 3),\n",
       " (331, 260, 3),\n",
       " (331, 272, 3),\n",
       " (334, 283, 3),\n",
       " (336, 264, 3),\n",
       " (336, 300, 3),\n",
       " (337, 293, 3),\n",
       " (338, 248, 3),\n",
       " (338, 264, 3),\n",
       " (338, 283, 3),\n",
       " (340, 288, 3),\n",
       " (340, 291, 3),\n",
       " (340, 314, 3),\n",
       " (342, 273, 3),\n",
       " (344, 279, 3),\n",
       " (347, 300, 3),\n",
       " (348, 287, 3),\n",
       " (348, 297, 3),\n",
       " (349, 292, 3),\n",
       " (349, 300, 3),\n",
       " (350, 272, 3),\n",
       " (350, 315, 3),\n",
       " (351, 262, 3),\n",
       " (351, 273, 3),\n",
       " (351, 278, 3),\n",
       " (352, 281, 3),\n",
       " (353, 300, 3),\n",
       " (354, 279, 3),\n",
       " (354, 303, 3),\n",
       " (355, 272, 3),\n",
       " (355, 290, 3),\n",
       " (355, 294, 3),\n",
       " (355, 310, 3),\n",
       " (357, 283, 3),\n",
       " (359, 297, 3),\n",
       " (359, 300, 3),\n",
       " (360, 313, 3),\n",
       " (365, 306, 3),\n",
       " (369, 400, 3),\n",
       " (370, 286, 3),\n",
       " (380, 294, 3),\n",
       " (380, 310, 3),\n",
       " (431, 400, 3),\n",
       " (442, 353, 3),\n",
       " (446, 450, 3),\n",
       " (456, 374, 3),\n",
       " (500, 377, 3),\n",
       " (512, 512, 3),\n",
       " (519, 456, 3),\n",
       " (520, 433, 3),\n",
       " (555, 526, 3),\n",
       " (620, 620, 3),\n",
       " (630, 504, 3),\n",
       " (630, 587, 3),\n",
       " (630, 628, 3),\n",
       " (630, 630, 3),\n",
       " (879, 766, 3),\n",
       " (938, 864, 3),\n",
       " (938, 911, 3),\n",
       " (960, 781, 3),\n",
       " (993, 825, 3),\n",
       " (1024, 1024, 3),\n",
       " (1200, 1059, 3),\n",
       " (1427, 1275, 3)}"
      ]
     },
     "execution_count": 37,
     "metadata": {},
     "output_type": "execute_result"
    }
   ],
   "source": []
  },
  {
   "cell_type": "code",
   "execution_count": null,
   "id": "2be8b4f9",
   "metadata": {},
   "outputs": [],
   "source": []
  }
 ],
 "metadata": {
  "kernelspec": {
   "display_name": "Python 3 (ipykernel)",
   "language": "python",
   "name": "python3"
  },
  "language_info": {
   "codemirror_mode": {
    "name": "ipython",
    "version": 3
   },
   "file_extension": ".py",
   "mimetype": "text/x-python",
   "name": "python",
   "nbconvert_exporter": "python",
   "pygments_lexer": "ipython3",
   "version": "3.9.13"
  }
 },
 "nbformat": 4,
 "nbformat_minor": 5
}
